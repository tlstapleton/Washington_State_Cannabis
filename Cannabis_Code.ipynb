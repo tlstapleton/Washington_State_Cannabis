{
 "cells": [
  {
   "cell_type": "code",
   "execution_count": null,
   "metadata": {},
   "outputs": [],
   "source": [
    "import pandas as pd\n",
    "import numpy as np\n",
    "import matplotlib.pyplot as plt\n",
    "import matplotlib.dates as mdates\n",
    "import matplotlib.cbook as cbook\n",
    "import datetime\n",
    "import gmaps\n",
    "import requests\n",
    "import json\n",
    "from config import gkey\n",
    "gmaps.configure(api_key=gkey)"
   ]
  },
  {
   "cell_type": "code",
   "execution_count": null,
   "metadata": {},
   "outputs": [],
   "source": [
    "# Read in all data \n",
    "homeprice=pd.read_csv('Inputs/Sale_Prices_Zip.csv')\n",
    "business=pd.read_csv('Inputs/Licensed_Businesses_WA.csv')\n",
    "pot_sales=pd.read_csv('Inputs/Sales_and_Tax_Report_WA.csv')\n",
    "us_states_hp=pd.read_csv('Inputs/Sale_Prices_State.csv')"
   ]
  },
  {
   "cell_type": "markdown",
   "metadata": {},
   "source": [
    "# Plot Percent Change in Median Home Sales Price Year to Year: States vs. Total US\n",
    "\n",
    "The following codes cleans the csv that contains median home sales price for every month starting March, 2008 for all states and the total United States, aggregates by year, and plots the percent change. "
   ]
  },
  {
   "cell_type": "code",
   "execution_count": null,
   "metadata": {},
   "outputs": [],
   "source": [
    "us_states_hp.head()"
   ]
  },
  {
   "cell_type": "code",
   "execution_count": null,
   "metadata": {},
   "outputs": [],
   "source": [
    "us_wa_hp=us_states_hp.loc[(us_states_hp['RegionName']== 'Washington') | (us_states_hp['RegionName']== 'Colorado') | (us_states_hp['RegionName']== 'Oregon')| (us_states_hp['RegionName']== 'United States')]"
   ]
  },
  {
   "cell_type": "code",
   "execution_count": null,
   "metadata": {},
   "outputs": [],
   "source": [
    "us_wa_hp.drop(['RegionID','SizeRank'],axis=1,inplace=True)"
   ]
  },
  {
   "cell_type": "code",
   "execution_count": null,
   "metadata": {},
   "outputs": [],
   "source": [
    "# us_wa_hp"
   ]
  },
  {
   "cell_type": "code",
   "execution_count": null,
   "metadata": {},
   "outputs": [],
   "source": [
    "us_wa_hp.set_index('RegionName',inplace=True)\n",
    "us_wa_hp=us_wa_hp.transpose()\n",
    "us_wa_hp.reset_index(inplace=True)\n",
    "us_wa_hp[['Year','Month']]=us_wa_hp['index'].str.split('-',expand=True)\n",
    "us_wa_hp"
   ]
  },
  {
   "cell_type": "code",
   "execution_count": null,
   "metadata": {},
   "outputs": [],
   "source": [
    "us_wa_avg=pd.DataFrame(data=[us_wa_hp.groupby('Year')['Washington'].median(),us_wa_hp.groupby('Year')['United States'].median(),us_wa_hp.groupby('Year')['Colorado'].median(),us_wa_hp.groupby('Year')['Oregon'].median()]).transpose()\n",
    "us_wa_avg"
   ]
  },
  {
   "cell_type": "code",
   "execution_count": null,
   "metadata": {},
   "outputs": [],
   "source": [
    "us_wa_avg['WA_Percent_Change']=us_wa_avg['Washington'].pct_change()*100\n",
    "us_wa_avg['CO_Percent_Change']=us_wa_avg['Colorado'].pct_change()*100\n",
    "us_wa_avg['OR_Percent_Change']=us_wa_avg['Oregon'].pct_change()*100\n",
    "us_wa_avg['US_Percent_Change']=us_wa_avg['United States'].pct_change()*100\n",
    "us_wa_avg"
   ]
  },
  {
   "cell_type": "code",
   "execution_count": null,
   "metadata": {},
   "outputs": [],
   "source": [
    "testfig,testax=plt.subplots()\n",
    "x_axis=us_wa_avg.index.tolist()\n",
    "testax.plot(x_axis,us_wa_avg['Washington'].dropna(),label='Washington',marker='o',color='mediumpurple')\n",
    "testax.plot(x_axis,us_wa_avg['Oregon'].dropna(),label='Oregon',marker='o',color='darkorange')\n",
    "testax.plot(x_axis,us_wa_avg['Colorado'].dropna(),label='Colorado',marker='o',color='palevioletred')\n",
    "testax.plot(x_axis,us_wa_avg['United States'].dropna(),label='Total US',marker='o',color='dimgrey')\n",
    "\n",
    "testfig.suptitle(\"Median Home Sales Price in West Coast States in which Cannabis is Legal\", fontsize=16, fontweight=\"bold\")\n",
    "plt.legend(loc='best')\n",
    "plt.xlabel(\"Years\")\n",
    "plt.ylabel(\"Median Home Sales Price ($)\")\n",
    "plt.xticks(x_axis,rotation='vertical')\n",
    "testax.set_facecolor('whitesmoke')\n",
    "plt.savefig('Images/west_coast_states.png')"
   ]
  },
  {
   "cell_type": "code",
   "execution_count": null,
   "metadata": {},
   "outputs": [],
   "source": [
    "testfig2,testax2=plt.subplots()\n",
    "x_axis=[2009,2010,2011,2012,2013,2014,2015,2016,2017,2018]\n",
    "testax2.plot(x_axis,us_wa_avg['WA_Percent_Change'].dropna(),label='Washington',marker='o',color='mediumpurple')\n",
    "testax2.plot(x_axis,us_wa_avg['OR_Percent_Change'].dropna(),label='Oregon',marker='o',color='darkorange')\n",
    "testax2.plot(x_axis,us_wa_avg['CO_Percent_Change'].dropna(),label='Colorado',marker='o',color='palevioletred')\n",
    "testax2.plot(x_axis,us_wa_avg['US_Percent_Change'].dropna(),label='Total US',marker='o',color='dimgrey')\n",
    "\n",
    "testfig2.suptitle(\"% Change in Median Home Sales Price\", fontsize=16, fontweight=\"bold\")\n",
    "plt.legend(loc='best')\n",
    "plt.xlabel(\"Years\")\n",
    "plt.ylabel(\"Change from Previous Year (%)\")\n",
    "plt.xticks(x_axis,rotation='vertical')\n",
    "testax2.set_facecolor('whitesmoke')\n",
    "plt.show()\n",
    "plt.savefig('Images/perc_change_home_price.png')"
   ]
  },
  {
   "cell_type": "markdown",
   "metadata": {},
   "source": [
    "# Build Heat Map of Sales in Washington with Retailer Markers"
   ]
  },
  {
   "cell_type": "code",
   "execution_count": null,
   "metadata": {},
   "outputs": [],
   "source": [
    "business"
   ]
  },
  {
   "cell_type": "code",
   "execution_count": null,
   "metadata": {},
   "outputs": [],
   "source": [
    "business.isna().sum()"
   ]
  },
  {
   "cell_type": "code",
   "execution_count": null,
   "metadata": {},
   "outputs": [],
   "source": [
    "pot_sales"
   ]
  },
  {
   "cell_type": "code",
   "execution_count": null,
   "metadata": {
    "scrolled": true
   },
   "outputs": [],
   "source": [
    "retailers=business.loc[(business['Type']=='MARIJUANA RETAILER/MEDICAL MARIJUANA ENDORSEMENT') | (business['Type']=='MARIJUANA RETAILER'),: ]\n"
   ]
  },
  {
   "cell_type": "code",
   "execution_count": null,
   "metadata": {},
   "outputs": [],
   "source": [
    "retailers"
   ]
  },
  {
   "cell_type": "code",
   "execution_count": null,
   "metadata": {},
   "outputs": [],
   "source": [
    "retailers['UBI']=retailers.UBI.astype(str).apply(lambda x: x[:9])\n",
    "retailers['UBI']=retailers['UBI'].astype(int)"
   ]
  },
  {
   "cell_type": "code",
   "execution_count": null,
   "metadata": {},
   "outputs": [],
   "source": [
    "pot_sales=pot_sales.loc[pot_sales['Total Sales'] != 0,:]\n",
    "pot_sales.dropna(subset=['UBI'],inplace=True)\n",
    "# pot_sales.head()"
   ]
  },
  {
   "cell_type": "code",
   "execution_count": null,
   "metadata": {},
   "outputs": [],
   "source": [
    "ret_sales=retailers.merge(pot_sales,on='UBI',how='inner')"
   ]
  },
  {
   "cell_type": "code",
   "execution_count": null,
   "metadata": {},
   "outputs": [],
   "source": [
    "dates=pd.to_datetime(ret_sales['Period Start'],format='%m/%d/%Y')\n",
    "ret_sales['Sales Month']=dates.apply(lambda x: x.strftime('%Y-%m'))"
   ]
  },
  {
   "cell_type": "code",
   "execution_count": null,
   "metadata": {},
   "outputs": [],
   "source": [
    "ret_sales['Zip']=ret_sales['Zip'].astype(str).apply(lambda x: x[:5]).astype(int)"
   ]
  },
  {
   "cell_type": "code",
   "execution_count": null,
   "metadata": {},
   "outputs": [],
   "source": [
    "sales_by_city=pd.DataFrame(ret_sales.groupby(['City','State'])['Total Sales'].sum())\n",
    "sales_by_city.reset_index(inplace=True)"
   ]
  },
  {
   "cell_type": "code",
   "execution_count": null,
   "metadata": {},
   "outputs": [],
   "source": [
    "sales_by_city"
   ]
  },
  {
   "cell_type": "code",
   "execution_count": null,
   "metadata": {},
   "outputs": [],
   "source": [
    "url = \"https://maps.googleapis.com/maps/api/geocode/json?address=\"\n",
    "lat=[]\n",
    "lng=[]\n",
    "for i in range(len(sales_by_city)):\n",
    "    query_url = url + sales_by_city.iloc[i]['City'] + \",+WA&key=\" + gkey\n",
    "    response = requests.get(query_url)\n",
    "    json = response.json()\n",
    "    lat.append(json['results'][0]['geometry']['location']['lat'])\n",
    "    lng.append(json['results'][0]['geometry']['location']['lng'])\n",
    "\n",
    "sales_by_city['lat']=lat\n",
    "sales_by_city['lng']=lng"
   ]
  },
  {
   "cell_type": "code",
   "execution_count": null,
   "metadata": {},
   "outputs": [],
   "source": [
    "sales_by_address=pd.DataFrame(ret_sales.groupby(['Address','City','State'])['Total Sales'].sum())\n",
    "sales_by_address.reset_index(inplace=True)"
   ]
  },
  {
   "cell_type": "code",
   "execution_count": null,
   "metadata": {},
   "outputs": [],
   "source": [
    "lat_mark=[]\n",
    "lng_mark=[]\n",
    "for i in range(len(sales_by_address)):\n",
    "    query_url_mark= url + sales_by_address.iloc[i]['Address']+ \",+\" + sales_by_address.iloc[i]['City'] + \",+WA&key=\" + gkey\n",
    "    json_mark = requests.get(query_url_mark).json()\n",
    "    try:\n",
    "        lat_mark.append(json_mark['results'][0]['geometry']['location']['lat'])\n",
    "        lng_mark.append(json_mark['results'][0]['geometry']['location']['lng'])\n",
    "    except: \n",
    "        lat_mark.append('none')\n",
    "        lng_mark.append('none')\n",
    "\n",
    "sales_by_address['lat']=lat_mark\n",
    "sales_by_address['lng']=lng_mark"
   ]
  },
  {
   "cell_type": "code",
   "execution_count": null,
   "metadata": {},
   "outputs": [],
   "source": [
    "locations_marker=sales_by_address[sales_by_address['lat']!='none']"
   ]
  },
  {
   "cell_type": "code",
   "execution_count": null,
   "metadata": {},
   "outputs": [],
   "source": [
    "# Store latitude and longitude in locations\n",
    "locations = sales_by_city[[\"lat\", \"lng\"]]\n",
    "weight=sales_by_city['Total Sales'].astype(float)\n",
    "\n",
    "heat_layer = gmaps.heatmap_layer(\n",
    "    locations, weights=weight,dissipating=False,point_radius=0.8)\n",
    "\n",
    "locations_marker=sales_by_address[sales_by_address['lat']!='none']\n",
    "locations_marker=locations_marker[['lat','lng']]\n",
    "\n",
    "marker_layer=gmaps.symbol_layer(locations_marker,fill_color='green',stroke_color='black',scale=2)\n",
    "\n",
    "fig = gmaps.figure()\n",
    "fig.add_layer(heat_layer)\n",
    "fig.add_layer(marker_layer)\n",
    "fig"
   ]
  },
  {
   "cell_type": "markdown",
   "metadata": {},
   "source": [
    "# Make Timeseries of Average % Change in Median Home Sales Price in Zip Codes with Marijuana Retailers"
   ]
  },
  {
   "cell_type": "code",
   "execution_count": null,
   "metadata": {},
   "outputs": [],
   "source": [
    "wa_all_hp=homeprice.loc[homeprice['StateName']=='Washington']\n",
    "wa_all_hp.drop(['RegionID','StateName','SizeRank'],axis=1,inplace=True)"
   ]
  },
  {
   "cell_type": "code",
   "execution_count": null,
   "metadata": {},
   "outputs": [],
   "source": [
    "\n",
    "wa_all_hp.rename(columns={'RegionName':'Zip_MedianHomeSale'},inplace=True)\n",
    "wa_all_hp.set_index('Zip_MedianHomeSale',inplace=True)\n",
    "wa_all_hp=wa_all_hp.transpose()\n",
    "wa_all_hp.head()"
   ]
  },
  {
   "cell_type": "code",
   "execution_count": null,
   "metadata": {},
   "outputs": [],
   "source": [
    "mj_sales_zip=pd.crosstab(ret_sales['Zip'],ret_sales['Sales Month'],values=ret_sales['Total Sales'],aggfunc=np.sum).transpose()\n",
    "# mj_sales_zip=pd.crosstab(ret_sales['Zip'],ret_sales['Sales Month'],values=ret_sales['Total Sales'],aggfunc=np.sum)\n",
    "mj_sales_zip.head()"
   ]
  },
  {
   "cell_type": "code",
   "execution_count": null,
   "metadata": {},
   "outputs": [],
   "source": [
    "all_data=mj_sales_zip.join(wa_all_hp,how='outer',lsuffix='_mjsales',rsuffix='_homeprice')\n",
    "all_data"
   ]
  },
  {
   "cell_type": "code",
   "execution_count": null,
   "metadata": {},
   "outputs": [],
   "source": [
    "df=all_data.filter(like='_',axis=1)\n",
    "df"
   ]
  },
  {
   "cell_type": "code",
   "execution_count": null,
   "metadata": {},
   "outputs": [],
   "source": [
    "zipcodes_with_mj=df.filter(like='homeprice',axis=1)\n",
    "zipcodes_with_mj"
   ]
  },
  {
   "cell_type": "code",
   "execution_count": null,
   "metadata": {},
   "outputs": [],
   "source": [
    "list1=list(zipcodes_with_mj)\n",
    "zipcodes_with_mj.reset_index(inplace=True)\n",
    "zipcodes_with_mj[['Year','Month']]=zipcodes_with_mj['index'].str.split('-',expand=True)"
   ]
  },
  {
   "cell_type": "code",
   "execution_count": null,
   "metadata": {},
   "outputs": [],
   "source": [
    "zipcodes_with_mj.groupby('Year')['{0}'.format('98103_homeprice')].mean()"
   ]
  },
  {
   "cell_type": "code",
   "execution_count": null,
   "metadata": {},
   "outputs": [],
   "source": [
    "yearavg=pd.DataFrame(index=['2008','2009','2010','2011','2012','2013','2014','2015','2016','2017','2018'])"
   ]
  },
  {
   "cell_type": "code",
   "execution_count": null,
   "metadata": {},
   "outputs": [],
   "source": [
    "\n",
    "for i in list1:\n",
    "    yearavg=yearavg.join(zipcodes_with_mj.groupby('Year')['{0}'.format(i)].median(),how='outer')"
   ]
  },
  {
   "cell_type": "code",
   "execution_count": null,
   "metadata": {},
   "outputs": [],
   "source": [
    "yearavg"
   ]
  },
  {
   "cell_type": "code",
   "execution_count": null,
   "metadata": {},
   "outputs": [],
   "source": [
    "yearavgchange=pd.DataFrame(index=['2008','2009','2010','2011','2012','2013','2014','2015','2016','2017','2018'])\n",
    "for col in yearavg:\n",
    "    yearavgchange=yearavgchange.join(yearavg['{0}'.format(col)].pct_change()*100,how='outer',rsuffix='_pctchange')"
   ]
  },
  {
   "cell_type": "code",
   "execution_count": null,
   "metadata": {},
   "outputs": [],
   "source": [
    "yearavgchange.mean(axis=1)"
   ]
  },
  {
   "cell_type": "code",
   "execution_count": null,
   "metadata": {},
   "outputs": [],
   "source": [
    "testfig3,testax3=plt.subplots()\n",
    "x_axis=[2009,2010,2011,2012,2013,2014,2015,2016,2017,2018]\n",
    "# testax2.plot(x_axis,z,marker='o',color='green',label='5 Change in Median Home Sales Price')\n",
    "testax3.plot(x_axis,yearavgchange.mean(axis=1).dropna(),label='Zip Codes with Marijuana Retailers',marker='o',color='mediumseagreen')\n",
    "testax3.plot(x_axis,us_wa_avg['WA_Percent_Change'].dropna(),label='Washington',marker='o',color='mediumpurple')\n",
    "testax3.plot(x_axis,us_wa_avg['US_Percent_Change'].dropna(),label='Total US',marker='o',color='dimgrey')\n",
    "\n",
    "testfig3.suptitle(\"% Change in Median Home Sales Price\", fontsize=16, fontweight=\"bold\")\n",
    "plt.legend(loc='best')\n",
    "plt.xlabel(\"Years\")\n",
    "plt.ylabel(\"Change from Previous Year (%)\")\n",
    "plt.xticks(x_axis,rotation='vertical')\n",
    "testax3.set_facecolor('whitesmoke')\n",
    "plt.axvline(x=2014,color='forestgreen')\n",
    "plt.show()\n",
    "plt.savefig('Images/Cannabis_Sales_Change.png')"
   ]
  },
  {
   "cell_type": "code",
   "execution_count": null,
   "metadata": {},
   "outputs": [],
   "source": []
  }
 ],
 "metadata": {
  "kernelspec": {
   "display_name": "Python 3",
   "language": "python",
   "name": "python3"
  },
  "language_info": {
   "codemirror_mode": {
    "name": "ipython",
    "version": 3
   },
   "file_extension": ".py",
   "mimetype": "text/x-python",
   "name": "python",
   "nbconvert_exporter": "python",
   "pygments_lexer": "ipython3",
   "version": "3.7.0"
  }
 },
 "nbformat": 4,
 "nbformat_minor": 2
}
